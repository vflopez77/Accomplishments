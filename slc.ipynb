{
 "cells": [
  {
   "cell_type": "markdown",
   "metadata": {},
   "source": [
    "### Create a Class to Get String Values"
   ]
  },
  {
   "cell_type": "code",
   "execution_count": 357,
   "metadata": {},
   "outputs": [],
   "source": [
    "# Import Library\n",
    "#!/usr/bin/python\n",
    "import sys\n"
   ]
  },
  {
   "cell_type": "code",
   "execution_count": 410,
   "metadata": {},
   "outputs": [],
   "source": [
    "# Create a StringText Class\n",
    "\n",
    "class StringText(object):\n",
    "    \n",
    "    maxLength = 59\n",
    "    \n",
    "    # Constructor\n",
    "    def __init__(self, content):\n",
    "        self.content = content\n",
    "        self.length = len(str(content))\n",
    "        \n",
    "    def isTooLong(self):\n",
    "        if self.length > 59:\n",
    "            return(True)\n",
    "        else:\n",
    "            return(False)\n",
    "        \n",
    "    def charDiff(self):\n",
    "        return(abs(maxLength-self.length))\n",
    "    \n",
    "    def oneCharOverUnder(self):\n",
    "        if StringText.charDiff(self) == 1:\n",
    "            return(True)\n",
    "        else:\n",
    "            return(False)\n",
    "            "
   ]
  },
  {
   "cell_type": "code",
   "execution_count": 439,
   "metadata": {},
   "outputs": [],
   "source": [
    "# Create instance of class\n",
    "myString = StringText(\"This is the string that is so extre long so it won't fit.\")"
   ]
  },
  {
   "cell_type": "code",
   "execution_count": 440,
   "metadata": {},
   "outputs": [
    {
     "data": {
      "text/plain": [
       "\"This is the string that is so extre long so it won't fit.\""
      ]
     },
     "execution_count": 440,
     "metadata": {},
     "output_type": "execute_result"
    }
   ],
   "source": [
    "# Show Content of string\n",
    "myString.content"
   ]
  },
  {
   "cell_type": "code",
   "execution_count": 441,
   "metadata": {},
   "outputs": [
    {
     "data": {
      "text/plain": [
       "57"
      ]
     },
     "execution_count": 441,
     "metadata": {},
     "output_type": "execute_result"
    }
   ],
   "source": [
    "# Show length of string\n",
    "myString.length"
   ]
  },
  {
   "cell_type": "code",
   "execution_count": 442,
   "metadata": {},
   "outputs": [
    {
     "data": {
      "text/plain": [
       "False"
      ]
     },
     "execution_count": 442,
     "metadata": {},
     "output_type": "execute_result"
    }
   ],
   "source": [
    "# See if string is too long\n",
    "myString.isTooLong()"
   ]
  },
  {
   "cell_type": "code",
   "execution_count": 443,
   "metadata": {},
   "outputs": [
    {
     "data": {
      "text/plain": [
       "2"
      ]
     },
     "execution_count": 443,
     "metadata": {},
     "output_type": "execute_result"
    }
   ],
   "source": [
    "# Get the absolute character length difference\n",
    "myString.charDiff()"
   ]
  },
  {
   "cell_type": "code",
   "execution_count": 444,
   "metadata": {},
   "outputs": [
    {
     "data": {
      "text/plain": [
       "False"
      ]
     },
     "execution_count": 444,
     "metadata": {},
     "output_type": "execute_result"
    }
   ],
   "source": [
    "# See if difference is only one character (for correct pluralization)\n",
    "myString.oneCharOverUnder()"
   ]
  },
  {
   "cell_type": "code",
   "execution_count": 445,
   "metadata": {},
   "outputs": [
    {
     "name": "stdout",
     "output_type": "stream",
     "text": [
      "The length of the string \"This is the string that is so extre long so it won't fit.\" is 57. \n",
      "The string is not too long with 2 characters to spare.\n"
     ]
    }
   ],
   "source": [
    "# Rewriting script using StringText class\n",
    "print(f'The length of the string \"{myString.content}\" is {myString.length}. ')\n",
    "\n",
    "if myString.isTooLong() == True:\n",
    "    print(f'The string is too long please shorten by {myString.charDiff()} character', end = '')\n",
    "    if myString.oneCharOverUnder() == False:\n",
    "        print('s.')\n",
    "    else:\n",
    "        print('.')\n",
    "else:\n",
    "    print(f'The string is not too long with {myString.charDiff()} character', end = '')\n",
    "    if myString.oneCharOverUnder() == False:\n",
    "        print('s', end = '')\n",
    "    print(' to spare.')"
   ]
  },
  {
   "cell_type": "code",
   "execution_count": null,
   "metadata": {},
   "outputs": [],
   "source": []
  },
  {
   "cell_type": "code",
   "execution_count": null,
   "metadata": {},
   "outputs": [],
   "source": []
  }
 ],
 "metadata": {
  "kernelspec": {
   "display_name": "PythonData",
   "language": "python",
   "name": "pythondata"
  },
  "language_info": {
   "codemirror_mode": {
    "name": "ipython",
    "version": 3
   },
   "file_extension": ".py",
   "mimetype": "text/x-python",
   "name": "python",
   "nbconvert_exporter": "python",
   "pygments_lexer": "ipython3",
   "version": "3.8.5"
  }
 },
 "nbformat": 4,
 "nbformat_minor": 4
}
