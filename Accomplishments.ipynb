{
 "cells": [
  {
   "cell_type": "code",
   "execution_count": 1,
   "metadata": {},
   "outputs": [],
   "source": [
    "# 1. Import process tasks to dataframe\n",
    "# 2. Summarize status by type/date\n",
    "# 3. Summarize weight by type/date\n",
    "# 4. Calculate Dones and ToDos\n",
    "# 4. Export summary file for Excel import"
   ]
  },
  {
   "cell_type": "code",
   "execution_count": 2,
   "metadata": {},
   "outputs": [],
   "source": [
    "# Import Dependencies\n",
    "import pandas as pd\n",
    "import csv\n",
    "import os"
   ]
  },
  {
   "cell_type": "code",
   "execution_count": 3,
   "metadata": {},
   "outputs": [],
   "source": [
    "# Read raw tasks file and convert to dataframe\n",
    "wt_tasks_csv = os.path.join(\"data\",\"tasks.csv\")\n",
    "wt_tasks_df = pd.read_csv(wt_tasks_csv)"
   ]
  },
  {
   "cell_type": "code",
   "execution_count": 4,
   "metadata": {},
   "outputs": [
    {
     "name": "stderr",
     "output_type": "stream",
     "text": [
      "/Users/victor/anaconda3/lib/python3.7/site-packages/ipykernel_launcher.py:2: FutureWarning: Indexing with multiple keys (implicitly converted to a tuple of keys) will be deprecated, use a list instead.\n",
      "  \n"
     ]
    }
   ],
   "source": [
    "# Create summary dataframe for Status and Weight type(date)\n",
    "sum_tasks_df = pd.DataFrame(wt_tasks_df.groupby(['Type'])['Status','Weight'].sum())"
   ]
  },
  {
   "cell_type": "code",
   "execution_count": 5,
   "metadata": {},
   "outputs": [],
   "source": [
    "# Add Count column\n",
    "sum_tasks_df['Count'] = wt_tasks_df.groupby(['Type'])['Status'].count()\n",
    "#wt_tasks_df.groupby(['Type'])['Status'].count()"
   ]
  },
  {
   "cell_type": "code",
   "execution_count": 6,
   "metadata": {},
   "outputs": [],
   "source": [
    "# Add number of ToDo tasks\n",
    "sum_tasks_df['ToDo'] = wt_tasks_df.groupby(['Type'])['Status'].count()-wt_tasks_df.groupby(['Type'])['Status'].sum()"
   ]
  },
  {
   "cell_type": "code",
   "execution_count": 7,
   "metadata": {},
   "outputs": [],
   "source": [
    "# Renaming Status as Done\n",
    "sum_tasks_df.rename(columns={'Status': 'Done'}, inplace=True)"
   ]
  },
  {
   "cell_type": "code",
   "execution_count": 8,
   "metadata": {},
   "outputs": [],
   "source": [
    "# Change to order of columns\n",
    "# Currently: ['Done', 'Weight', 'Count', 'ToDo']\n",
    "# We want ['Done', 'ToDo', 'Weight', 'Count']\n",
    "st_cols = ['Done', 'ToDo', 'Weight', 'Count']\n",
    "# Change column order\n",
    "sum_tasks_df=sum_tasks_df[st_cols]"
   ]
  },
  {
   "cell_type": "code",
   "execution_count": 9,
   "metadata": {},
   "outputs": [],
   "source": [
    "# Exporting summary dataframe to summary file\n",
    "tasks_sum_csv = os.path.join('data', 'tasks_sum.csv')\n",
    "sum_tasks_df.to_csv(tasks_sum_csv)"
   ]
  },
  {
   "cell_type": "code",
   "execution_count": null,
   "metadata": {},
   "outputs": [],
   "source": []
  }
 ],
 "metadata": {
  "kernelspec": {
   "display_name": "PythonData",
   "language": "python",
   "name": "pythondata"
  },
  "language_info": {
   "codemirror_mode": {
    "name": "ipython",
    "version": 3
   },
   "file_extension": ".py",
   "mimetype": "text/x-python",
   "name": "python",
   "nbconvert_exporter": "python",
   "pygments_lexer": "ipython3",
   "version": "3.7.6"
  }
 },
 "nbformat": 4,
 "nbformat_minor": 4
}
