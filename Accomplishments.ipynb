{
 "cells": [
  {
   "cell_type": "code",
   "execution_count": 1,
   "metadata": {},
   "outputs": [],
   "source": [
    "# 1. Import process tasks to dataframe\n",
    "# 2. Summarize status by type/date\n",
    "# 3. Summarize weight by type/date\n",
    "# 4. Calculate Dones and ToDos\n",
    "# 4. Export summary file for Excel import"
   ]
  },
  {
   "cell_type": "code",
   "execution_count": 2,
   "metadata": {},
   "outputs": [],
   "source": [
    "# Import Dependencies\n",
    "import pandas as pd\n",
    "import csv\n",
    "import os\n",
    "from datetime import datetime"
   ]
  },
  {
   "cell_type": "code",
   "execution_count": 3,
   "metadata": {},
   "outputs": [],
   "source": [
    "# Read raw tasks file and convert to dataframe\n",
    "wt_tasks_csv = os.path.join(\"data\",\"tasks.csv\")\n",
    "wt_tasks_df = pd.read_csv(wt_tasks_csv)"
   ]
  },
  {
   "cell_type": "code",
   "execution_count": 4,
   "metadata": {},
   "outputs": [],
   "source": [
    "# Create summary dataframe for Status and Weight type(date)\n",
    "sum_tasks_df = pd.DataFrame(wt_tasks_df.groupby(['Type','Status'])[['ToDoW','DoneW']].sum())"
   ]
  },
  {
   "cell_type": "code",
   "execution_count": 5,
   "metadata": {},
   "outputs": [],
   "source": [
    "# Group by date to take into account dates with Todo and Done records\n",
    "sum_tasks_final_df = pd.DataFrame(sum_tasks_df.groupby(['Type'])[['ToDoW','DoneW']].sum())"
   ]
  },
  {
   "cell_type": "code",
   "execution_count": 6,
   "metadata": {},
   "outputs": [],
   "source": [
    "# Export final summary dataframe to summary file\n",
    "tasks_sum_csv = os.path.join('data', 'tasks_sum.csv')\n",
    "sum_tasks_final_df.to_csv(tasks_sum_csv)"
   ]
  },
  {
   "cell_type": "code",
   "execution_count": 7,
   "metadata": {},
   "outputs": [],
   "source": [
    "# Write Flag File with Today's Date\n",
    "flag_file_txt = open(os.path.join(\"data\", \"script_completed.txt\"), \"w\")\n",
    "flag_file_txt.write(datetime.today().strftime('%Y-%m-%d'))\n",
    "flag_file_txt.close()"
   ]
  },
  {
   "cell_type": "code",
   "execution_count": 8,
   "metadata": {},
   "outputs": [],
   "source": [
    "# Open file permissions for Excel\n",
    "os.chmod (\"/Users/victor/Downloads/Today.txt\", 0o777)\n",
    "os.chmod(\"data/script_completed.txt\", 0o777)"
   ]
  },
  {
   "cell_type": "code",
   "execution_count": 9,
   "metadata": {},
   "outputs": [],
   "source": [
    "# Files are cleaned up by Excel"
   ]
  },
  {
   "cell_type": "code",
   "execution_count": 10,
   "metadata": {},
   "outputs": [
    {
     "name": "stdout",
     "output_type": "stream",
     "text": [
      "Summary import completed.\n"
     ]
    }
   ],
   "source": [
    "print(\"Summary import completed.\")"
   ]
  }
 ],
 "metadata": {
  "kernelspec": {
   "display_name": "PythonData",
   "language": "python",
   "name": "pythondata"
  },
  "language_info": {
   "codemirror_mode": {
    "name": "ipython",
    "version": 3
   },
   "file_extension": ".py",
   "mimetype": "text/x-python",
   "name": "python",
   "nbconvert_exporter": "python",
   "pygments_lexer": "ipython3",
   "version": "3.8.5"
  }
 },
 "nbformat": 4,
 "nbformat_minor": 4
}
