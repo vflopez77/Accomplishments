{
 "cells": [
  {
   "cell_type": "markdown",
   "metadata": {},
   "source": [
    "### Create a Class to Get String Values"
   ]
  },
  {
   "cell_type": "code",
   "execution_count": 139,
   "metadata": {},
   "outputs": [],
   "source": [
    "# Import Library\n",
    "#!/usr/bin/python\n",
    "import sys\n"
   ]
  },
  {
   "cell_type": "code",
   "execution_count": 287,
   "metadata": {},
   "outputs": [],
   "source": [
    "# Create a StringText Class\n",
    "\n",
    "class StringText(object):\n",
    "    \n",
    "    maxLength = 59\n",
    "    \n",
    "    # Constructor\n",
    "    def __init__(self, content):\n",
    "        self.content = content\n",
    "        self.length = len(str(content))\n",
    "        \n",
    "    def isTooLong(self):\n",
    "        if self.length > 59:\n",
    "            return(True)\n",
    "        else:\n",
    "            return(False)\n",
    "        \n",
    "    def isNotTooLong(self):\n",
    "        if self.length <= 59:\n",
    "            return(True)\n",
    "        else:\n",
    "            return(False)\n",
    "        \n",
    "    def charDiff(self):\n",
    "        return(maxLength-self.length)\n",
    "    \n",
    "    def oneCharOverUnder(self):\n",
    "        if abs(maxLength-self.length) == 1:\n",
    "            return(True)\n",
    "        else:\n",
    "            return(False)\n",
    "            \n"
   ]
  },
  {
   "cell_type": "code",
   "execution_count": 294,
   "metadata": {},
   "outputs": [],
   "source": [
    "# Create instance of class\n",
    "myString = StringText(\"This is the string that is extremely long so it won't fit.\")"
   ]
  },
  {
   "cell_type": "code",
   "execution_count": 295,
   "metadata": {},
   "outputs": [],
   "source": [
    "# Get information on class instance\n",
    "#dir(myString)"
   ]
  },
  {
   "cell_type": "code",
   "execution_count": 296,
   "metadata": {},
   "outputs": [
    {
     "data": {
      "text/plain": [
       "\"This is the string that is extremely long so it won't fit.\""
      ]
     },
     "execution_count": 296,
     "metadata": {},
     "output_type": "execute_result"
    }
   ],
   "source": [
    "myString.content"
   ]
  },
  {
   "cell_type": "code",
   "execution_count": 297,
   "metadata": {},
   "outputs": [
    {
     "data": {
      "text/plain": [
       "58"
      ]
     },
     "execution_count": 297,
     "metadata": {},
     "output_type": "execute_result"
    }
   ],
   "source": [
    "myString.length"
   ]
  },
  {
   "cell_type": "code",
   "execution_count": 298,
   "metadata": {},
   "outputs": [
    {
     "data": {
      "text/plain": [
       "False"
      ]
     },
     "execution_count": 298,
     "metadata": {},
     "output_type": "execute_result"
    }
   ],
   "source": [
    "myString.isTooLong()"
   ]
  },
  {
   "cell_type": "code",
   "execution_count": 299,
   "metadata": {},
   "outputs": [
    {
     "data": {
      "text/plain": [
       "True"
      ]
     },
     "execution_count": 299,
     "metadata": {},
     "output_type": "execute_result"
    }
   ],
   "source": [
    "myString.isNotTooLong()"
   ]
  },
  {
   "cell_type": "code",
   "execution_count": 300,
   "metadata": {},
   "outputs": [
    {
     "data": {
      "text/plain": [
       "1"
      ]
     },
     "execution_count": 300,
     "metadata": {},
     "output_type": "execute_result"
    }
   ],
   "source": [
    "myString.charDiff()"
   ]
  },
  {
   "cell_type": "code",
   "execution_count": 301,
   "metadata": {},
   "outputs": [
    {
     "data": {
      "text/plain": [
       "True"
      ]
     },
     "execution_count": 301,
     "metadata": {},
     "output_type": "execute_result"
    }
   ],
   "source": [
    "myString.oneCharOverUnder()"
   ]
  },
  {
   "cell_type": "code",
   "execution_count": 226,
   "metadata": {},
   "outputs": [
    {
     "name": "stdout",
     "output_type": "stream",
     "text": [
      "The length of the string \"-f\" is 2.\n",
      "The string is not too long with 57 characters to spare.\n"
     ]
    }
   ],
   "source": [
    "# Get length of passed-in string\n",
    "maxLength = 59\n",
    "stringLength = len(str(sys.argv[1]))\n",
    "charstr = 'character'\n",
    "# Report length of string\n",
    "print(f'The length of the string \"{sys.argv[1]}\" is {stringLength}.')\n",
    "\n",
    "# Test length of string and report string is too long\n",
    "if stringLength > maxLength:\n",
    "    if stringLength-maxLength != 1:\n",
    "        # Report string is too long by more than one character\n",
    "        print(f'The string is too long.  Please shorten by {stringLength-maxLength} {charstr}s.')\n",
    "    else:\n",
    "        # A single character too long\n",
    "        print(f'The string is too long.  Please shorten by {stringLength-maxLength} {charstr}.')\n",
    "# Report string is not too long\n",
    "elif abs(stringLength-maxLength) != 1:\n",
    "    print(f'The string is not too long with {abs(stringLength-maxLength)} {charstr}s to spare.')\n",
    "else: # A single character under\n",
    "    print(f'The string is not too long with {abs(stringLength-maxLength)} {charstr} to spare.')"
   ]
  },
  {
   "cell_type": "code",
   "execution_count": null,
   "metadata": {},
   "outputs": [],
   "source": []
  }
 ],
 "metadata": {
  "kernelspec": {
   "display_name": "PythonData",
   "language": "python",
   "name": "pythondata"
  },
  "language_info": {
   "codemirror_mode": {
    "name": "ipython",
    "version": 3
   },
   "file_extension": ".py",
   "mimetype": "text/x-python",
   "name": "python",
   "nbconvert_exporter": "python",
   "pygments_lexer": "ipython3",
   "version": "3.8.5"
  }
 },
 "nbformat": 4,
 "nbformat_minor": 4
}
