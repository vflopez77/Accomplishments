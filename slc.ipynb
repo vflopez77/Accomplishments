{
 "cells": [
  {
   "cell_type": "markdown",
   "metadata": {},
   "source": [
    "### Create a Class to Get String Values"
   ]
  },
  {
   "cell_type": "code",
   "execution_count": 139,
   "metadata": {},
   "outputs": [],
   "source": [
    "# Import Library\n",
    "#!/usr/bin/python\n",
    "import sys\n"
   ]
  },
  {
   "cell_type": "code",
   "execution_count": 348,
   "metadata": {},
   "outputs": [],
   "source": [
    "# Create a StringText Class\n",
    "\n",
    "class StringText(object):\n",
    "    \n",
    "    maxLength = 59\n",
    "    \n",
    "    # Constructor\n",
    "    def __init__(self, content):\n",
    "        self.content = content\n",
    "        self.length = len(str(content))\n",
    "        \n",
    "    def isTooLong(self):\n",
    "        if self.length > 59:\n",
    "            return(True)\n",
    "        else:\n",
    "            return(False)\n",
    "        \n",
    "    def isNotTooLong(self):\n",
    "        if self.length <= 59:\n",
    "            return(True)\n",
    "        else:\n",
    "            return(False)\n",
    "        \n",
    "    def charDiff(self):\n",
    "        return(abs(maxLength-self.length))\n",
    "    \n",
    "    def oneCharOverUnder(self):\n",
    "        if abs(maxLength-self.length) == 1:\n",
    "            return(True)\n",
    "        else:\n",
    "            return(False)\n",
    "            \n"
   ]
  },
  {
   "cell_type": "code",
   "execution_count": 349,
   "metadata": {},
   "outputs": [],
   "source": [
    "# Create instance of class\n",
    "myString = StringText(\"This is the string that is so extremely long so it won't fit.\")"
   ]
  },
  {
   "cell_type": "code",
   "execution_count": 350,
   "metadata": {},
   "outputs": [],
   "source": [
    "# Get information on class instance\n",
    "#dir(myString)"
   ]
  },
  {
   "cell_type": "code",
   "execution_count": 351,
   "metadata": {},
   "outputs": [
    {
     "data": {
      "text/plain": [
       "\"This is the string that is so extremely long so it won't fit.\""
      ]
     },
     "execution_count": 351,
     "metadata": {},
     "output_type": "execute_result"
    }
   ],
   "source": [
    "myString.content"
   ]
  },
  {
   "cell_type": "code",
   "execution_count": 352,
   "metadata": {},
   "outputs": [
    {
     "data": {
      "text/plain": [
       "61"
      ]
     },
     "execution_count": 352,
     "metadata": {},
     "output_type": "execute_result"
    }
   ],
   "source": [
    "myString.length"
   ]
  },
  {
   "cell_type": "code",
   "execution_count": 353,
   "metadata": {},
   "outputs": [
    {
     "data": {
      "text/plain": [
       "True"
      ]
     },
     "execution_count": 353,
     "metadata": {},
     "output_type": "execute_result"
    }
   ],
   "source": [
    "myString.isTooLong()"
   ]
  },
  {
   "cell_type": "code",
   "execution_count": 354,
   "metadata": {},
   "outputs": [
    {
     "data": {
      "text/plain": [
       "False"
      ]
     },
     "execution_count": 354,
     "metadata": {},
     "output_type": "execute_result"
    }
   ],
   "source": [
    "myString.isNotTooLong()"
   ]
  },
  {
   "cell_type": "code",
   "execution_count": 355,
   "metadata": {},
   "outputs": [
    {
     "data": {
      "text/plain": [
       "2"
      ]
     },
     "execution_count": 355,
     "metadata": {},
     "output_type": "execute_result"
    }
   ],
   "source": [
    "myString.charDiff()"
   ]
  },
  {
   "cell_type": "code",
   "execution_count": 356,
   "metadata": {},
   "outputs": [
    {
     "data": {
      "text/plain": [
       "False"
      ]
     },
     "execution_count": 356,
     "metadata": {},
     "output_type": "execute_result"
    }
   ],
   "source": [
    "myString.oneCharOverUnder()"
   ]
  },
  {
   "cell_type": "code",
   "execution_count": 346,
   "metadata": {},
   "outputs": [
    {
     "name": "stdout",
     "output_type": "stream",
     "text": [
      "The length of the string \"This is the string that is so extreme long so it won't fit.\" is 59. \n",
      "The string is not too long with 0 characters to spare.\n"
     ]
    }
   ],
   "source": [
    "# Rewriting script using StringText class\n",
    "myString = StringText(\"This is the string that is so extremely long so it won't fit.\")\n",
    "\n",
    "print(f'The length of the string \"{myString.content}\" is {myString.length}. ')\n",
    "\n",
    "if myString.isTooLong() == True:\n",
    "    print(f'The string is too long please shorten by {myString.charDiff()} character', end = '')\n",
    "    if myString.oneCharOverUnder() == False:\n",
    "        print('s.')\n",
    "    else:\n",
    "        print('.')\n",
    "else:\n",
    "    print(f'The string is not too long with {myString.charDiff()} character', end = '')\n",
    "    if myString.oneCharOverUnder() == False:\n",
    "        print('s', end = '')\n",
    "    print(' to spare.')"
   ]
  },
  {
   "cell_type": "code",
   "execution_count": null,
   "metadata": {},
   "outputs": [],
   "source": []
  }
 ],
 "metadata": {
  "kernelspec": {
   "display_name": "PythonData",
   "language": "python",
   "name": "pythondata"
  },
  "language_info": {
   "codemirror_mode": {
    "name": "ipython",
    "version": 3
   },
   "file_extension": ".py",
   "mimetype": "text/x-python",
   "name": "python",
   "nbconvert_exporter": "python",
   "pygments_lexer": "ipython3",
   "version": "3.8.5"
  }
 },
 "nbformat": 4,
 "nbformat_minor": 4
}
