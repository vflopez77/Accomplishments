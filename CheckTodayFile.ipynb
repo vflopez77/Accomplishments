{
 "cells": [
  {
   "cell_type": "markdown",
   "metadata": {},
   "source": [
    "## Pre-Process Today.txt to Identify Overlong Entries"
   ]
  },
  {
   "cell_type": "code",
   "execution_count": 1,
   "metadata": {},
   "outputs": [],
   "source": [
    "# Import libraries\n",
    "import pandas as pd"
   ]
  },
  {
   "cell_type": "code",
   "execution_count": 2,
   "metadata": {},
   "outputs": [],
   "source": [
    "# Identify file path\n",
    "todayfile = \"/Users/victor/Downloads/Today.txt\"\n",
    "\n",
    "# Check to see of file exists\n",
    "try:\n",
    "    # Using pipe as separator because it is not likely to be used in the outline\n",
    "    todayfile_df = pd.read_csv(todayfile, sep = \"|\")\n",
    "except FileNotFoundError:\n",
    "    print(\"The Today.txt file has not been generated!\")\n",
    "    exit()"
   ]
  },
  {
   "cell_type": "code",
   "execution_count": 3,
   "metadata": {},
   "outputs": [],
   "source": [
    "# This will loop through the exported Today.txt file to find any entries that are too long\n",
    "# Initialize row counter to help retrieve bad row\n",
    "rownum = 0\n",
    "# Loop through file using index\n",
    "for line in todayfile_df.index: \n",
    "    # Pulling out current field entry\n",
    "    currline = todayfile_df['Outline: Today'][line]\n",
    "    # Stripping leading spaces\n",
    "    currline = currline.lstrip()\n",
    "    # Checking for correct start of line \n",
    "    if currline[0:1] != '-':\n",
    "        # Showing incorrect extra line\n",
    "        print(currline)\n",
    "        # Getting too long line number\n",
    "        badrow = rownum - 1\n",
    "        # Displaying too long lin\n",
    "        print(todayfile_df.iloc[[badrow]])\n",
    "    # incrementing row number\n",
    "    rownum = rownum + 1"
   ]
  },
  {
   "cell_type": "code",
   "execution_count": 4,
   "metadata": {},
   "outputs": [
    {
     "name": "stdout",
     "output_type": "stream",
     "text": [
      "The Today.txt file is good and ready to be processed.\n"
     ]
    }
   ],
   "source": [
    "# Testing if there were bad rows to display final status message\n",
    "try:\n",
    "    badrow\n",
    "except NameError:\n",
    "    print(\"The Today.txt file is good and ready to be processed.\")\n",
    "else:\n",
    "    print(\"The item(s) above are too long to export and need to be addressed.\")"
   ]
  },
  {
   "cell_type": "code",
   "execution_count": null,
   "metadata": {},
   "outputs": [],
   "source": []
  }
 ],
 "metadata": {
  "kernelspec": {
   "display_name": "PythonData",
   "language": "python",
   "name": "pythondata"
  },
  "language_info": {
   "codemirror_mode": {
    "name": "ipython",
    "version": 3
   },
   "file_extension": ".py",
   "mimetype": "text/x-python",
   "name": "python",
   "nbconvert_exporter": "python",
   "pygments_lexer": "ipython3",
   "version": "3.8.5"
  }
 },
 "nbformat": 4,
 "nbformat_minor": 4
}
