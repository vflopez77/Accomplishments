{
 "cells": [
  {
   "cell_type": "markdown",
   "metadata": {},
   "source": [
    "### Create a Class to Get String Values"
   ]
  },
  {
   "cell_type": "code",
   "execution_count": 453,
   "metadata": {},
   "outputs": [],
   "source": [
    "#!/usr/bin/python\n",
    "# Import Library\n",
    "import sys"
   ]
  },
  {
   "cell_type": "code",
   "execution_count": 454,
   "metadata": {},
   "outputs": [],
   "source": [
    "# Create a StringText Class\n",
    "class StringText(object):\n",
    "    \n",
    "    # This is the maximum length that can be exported from the outliner without wrapping\n",
    "    maxLength = 59\n",
    "    \n",
    "    # Constructor\n",
    "    def __init__(self, content):\n",
    "        self.content = content\n",
    "        self.length = len(str(content))\n",
    "        \n",
    "    # Method to check if string is too long    \n",
    "    def isTooLong(self):\n",
    "        if self.length > 59:\n",
    "            return(True)\n",
    "        else:\n",
    "            return(False)\n",
    "    \n",
    "    # Method to get absolute character difference\n",
    "    def charDiff(self):\n",
    "        return(abs(maxLength-self.length))\n",
    "    \n",
    "    # Method to determine if character difference is only one (for pluralization)\n",
    "    def oneCharOverUnder(self):\n",
    "        if StringText.charDiff(self) == 1:\n",
    "            return(True)\n",
    "        else:\n",
    "            return(False)\n",
    "            "
   ]
  },
  {
   "cell_type": "code",
   "execution_count": 457,
   "metadata": {},
   "outputs": [],
   "source": [
    "# Create instance of the class\n",
    "myString = StringText(\"This is the string that is so extremely long so it won't fit.\")"
   ]
  },
  {
   "cell_type": "code",
   "execution_count": 458,
   "metadata": {},
   "outputs": [
    {
     "data": {
      "text/plain": [
       "\"This is the string that is so extremely long so it won't fit.\""
      ]
     },
     "execution_count": 458,
     "metadata": {},
     "output_type": "execute_result"
    }
   ],
   "source": [
    "# Show Content of string\n",
    "myString.content"
   ]
  },
  {
   "cell_type": "code",
   "execution_count": 459,
   "metadata": {},
   "outputs": [
    {
     "data": {
      "text/plain": [
       "61"
      ]
     },
     "execution_count": 459,
     "metadata": {},
     "output_type": "execute_result"
    }
   ],
   "source": [
    "# Show length of string\n",
    "myString.length"
   ]
  },
  {
   "cell_type": "code",
   "execution_count": 460,
   "metadata": {},
   "outputs": [
    {
     "data": {
      "text/plain": [
       "True"
      ]
     },
     "execution_count": 460,
     "metadata": {},
     "output_type": "execute_result"
    }
   ],
   "source": [
    "# See if string is too long\n",
    "myString.isTooLong()"
   ]
  },
  {
   "cell_type": "code",
   "execution_count": 461,
   "metadata": {},
   "outputs": [
    {
     "data": {
      "text/plain": [
       "2"
      ]
     },
     "execution_count": 461,
     "metadata": {},
     "output_type": "execute_result"
    }
   ],
   "source": [
    "# Get the absolute character length difference\n",
    "myString.charDiff()"
   ]
  },
  {
   "cell_type": "code",
   "execution_count": 462,
   "metadata": {},
   "outputs": [
    {
     "data": {
      "text/plain": [
       "False"
      ]
     },
     "execution_count": 462,
     "metadata": {},
     "output_type": "execute_result"
    }
   ],
   "source": [
    "# See if difference is only one character (for correct pluralization)\n",
    "myString.oneCharOverUnder()"
   ]
  },
  {
   "cell_type": "code",
   "execution_count": 463,
   "metadata": {},
   "outputs": [
    {
     "name": "stdout",
     "output_type": "stream",
     "text": [
      "The length of the string \"This is the string that is so extremely long so it won't fit.\" is 61. \n",
      "The string is too long please shorten by 2 characters.\n"
     ]
    }
   ],
   "source": [
    "# Rewriting script using StringText class\n",
    "\n",
    "# Print out the string and its length\n",
    "print(f'The length of the string \"{myString.content}\" is {myString.length}. ')\n",
    "\n",
    "# Case when the string is too long\n",
    "if myString.isTooLong() == True:\n",
    "    print(f'The string is too long please shorten by {myString.charDiff()} character', end = '')\n",
    "    # Checking for a single character difference\n",
    "    if myString.oneCharOverUnder() == False:\n",
    "        print('s.')\n",
    "    else:\n",
    "        print('.')\n",
    "        \n",
    "# Case when the string is not too long\n",
    "else:\n",
    "    print(f'The string is not too long with {myString.charDiff()} character', end = '')\n",
    "    # Checking for a single character difference\n",
    "    if myString.oneCharOverUnder() == False:\n",
    "        print('s', end = '')\n",
    "    print(' to spare.')"
   ]
  },
  {
   "cell_type": "code",
   "execution_count": null,
   "metadata": {},
   "outputs": [],
   "source": []
  }
 ],
 "metadata": {
  "kernelspec": {
   "display_name": "PythonData",
   "language": "python",
   "name": "pythondata"
  },
  "language_info": {
   "codemirror_mode": {
    "name": "ipython",
    "version": 3
   },
   "file_extension": ".py",
   "mimetype": "text/x-python",
   "name": "python",
   "nbconvert_exporter": "python",
   "pygments_lexer": "ipython3",
   "version": "3.8.5"
  }
 },
 "nbformat": 4,
 "nbformat_minor": 4
}
